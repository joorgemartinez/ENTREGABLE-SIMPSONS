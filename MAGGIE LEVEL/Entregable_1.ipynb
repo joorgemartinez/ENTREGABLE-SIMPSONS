{
  "cells": [
    {
      "cell_type": "markdown",
      "metadata": {
        "colab_type": "text",
        "id": "view-in-github"
      },
      "source": [
        "<a href=\"https://colab.research.google.com/github/joorgemartinez/ENTREGABLE1/blob/main/Entregable_1.ipynb\" target=\"_parent\"><img src=\"https://colab.research.google.com/assets/colab-badge.svg\" alt=\"Open In Colab\"/></a>"
      ]
    },
    {
      "cell_type": "code",
      "execution_count": 57,
      "metadata": {
        "id": "rO2ARQbajzlC"
      },
      "outputs": [],
      "source": [
        "import requests\n",
        "import json\n",
        "import time\n",
        "import pandas as pd"
      ]
    },
    {
      "cell_type": "code",
      "execution_count": 58,
      "metadata": {
        "id": "0je2POquv7-8"
      },
      "outputs": [],
      "source": [
        "general = {}\n",
        "homer = {}\n",
        "lisa = {}"
      ]
    },
    {
      "cell_type": "code",
      "execution_count": 61,
      "metadata": {
        "colab": {
          "base_uri": "https://localhost:8080/",
          "height": 286
        },
        "id": "KyVGVPqzj9_C",
        "outputId": "8ea37a13-020f-445e-e668-fc42cdaac1a8"
      },
      "outputs": [
        {
          "name": "stdout",
          "output_type": "stream",
          "text": [
            "{'Abe Simpson': 'Why are you pleople avoiding me? Does my withered face remind you of the grim specter of death?', 'Homer Simpson': 'In theory, Communism works! In theory.', 'Lisa Simpson': \"Shut up, brain. I got friends now. I don't need you anymore.\", 'Ralph Wiggum': 'They taste like...burning.'}\n",
            "{'Abe Simpson': 'Why are you pleople avoiding me? Does my withered face remind you of the grim specter of death?', 'Homer Simpson': 'In theory, Communism works! In theory.', 'Lisa Simpson': \"Shut up, brain. I got friends now. I don't need you anymore.\", 'Ralph Wiggum': 'They taste like...burning.', 'Otto': \"Oh, wow, windows. I don't think I could afford this place.\"}\n",
            "{'Abe Simpson': 'Why are you pleople avoiding me? Does my withered face remind you of the grim specter of death?', 'Homer Simpson': 'In theory, Communism works! In theory.', 'Lisa Simpson': \"Shut up, brain. I got friends now. I don't need you anymore.\", 'Ralph Wiggum': 'They taste like...burning.', 'Otto': \"Oh, wow, windows. I don't think I could afford this place.\", 'Rainier Wolfcastle': 'My eyes! The goggles do nothing!'}\n",
            "{'Abe Simpson': 'Why are you pleople avoiding me? Does my withered face remind you of the grim specter of death?', 'Homer Simpson': 'I believe the children are the future... Unless we stop them now!', 'Lisa Simpson': \"Shut up, brain. I got friends now. I don't need you anymore.\", 'Ralph Wiggum': 'They taste like...burning.', 'Otto': \"Oh, wow, windows. I don't think I could afford this place.\", 'Rainier Wolfcastle': 'My eyes! The goggles do nothing!'}\n"
          ]
        },
        {
          "ename": "KeyboardInterrupt",
          "evalue": "ignored",
          "output_type": "error",
          "traceback": [
            "\u001b[0;31m---------------------------------------------------------------------------\u001b[0m",
            "\u001b[0;31mKeyboardInterrupt\u001b[0m                         Traceback (most recent call last)",
            "\u001b[0;32m<ipython-input-61-0cf98bc4dce4>\u001b[0m in \u001b[0;36m<module>\u001b[0;34m\u001b[0m\n\u001b[1;32m     18\u001b[0m \u001b[0;34m\u001b[0m\u001b[0m\n\u001b[1;32m     19\u001b[0m   \u001b[0mprint\u001b[0m\u001b[0;34m(\u001b[0m\u001b[0mgeneral\u001b[0m\u001b[0;34m)\u001b[0m\u001b[0;34m\u001b[0m\u001b[0;34m\u001b[0m\u001b[0m\n\u001b[0;32m---> 20\u001b[0;31m   \u001b[0mtime\u001b[0m\u001b[0;34m.\u001b[0m\u001b[0msleep\u001b[0m\u001b[0;34m(\u001b[0m\u001b[0;36m5\u001b[0m\u001b[0;34m)\u001b[0m\u001b[0;34m\u001b[0m\u001b[0;34m\u001b[0m\u001b[0m\n\u001b[0m",
            "\u001b[0;31mKeyboardInterrupt\u001b[0m: "
          ]
        }
      ],
      "source": [
        "while True:\n",
        "  URL = 'https://thesimpsonsquoteapi.glitch.me/quotes'\n",
        "  respuesta = requests.get(url = URL)\n",
        "  datos = respuesta.json()\n",
        "  \n",
        "  frase: str = datos[0][\"quote\"]\n",
        "  personaje: str = datos[0][\"character\"]\n",
        "\n",
        "  if personaje == \"Lisa Simpson\":\n",
        "    general[personaje] = frase\n",
        "    lisa[personaje] = frase\n",
        "\n",
        "  elif personaje == \"Homer Simpson\":\n",
        "    general[personaje] = frase\n",
        "    homer[personaje] = frase\n",
        "  else:\n",
        "    general[personaje] = frase\n",
        "\n",
        "  print(general)\n",
        "  time.sleep(5)"
      ]
    }
  ],
  "metadata": {
    "colab": {
      "authorship_tag": "ABX9TyOC6KoIGFDqTjm6EUjN6Cl8",
      "include_colab_link": true,
      "provenance": []
    },
    "kernelspec": {
      "display_name": "Python 3.10.2 64-bit",
      "language": "python",
      "name": "python3"
    },
    "language_info": {
      "name": "python",
      "version": "3.10.2"
    },
    "vscode": {
      "interpreter": {
        "hash": "aee8b7b246df8f9039afb4144a1f6fd8d2ca17a180786b69acc140d282b71a49"
      }
    }
  },
  "nbformat": 4,
  "nbformat_minor": 0
}
