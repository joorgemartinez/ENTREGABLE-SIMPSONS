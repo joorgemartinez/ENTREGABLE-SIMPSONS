{
  "cells": [
    {
      "cell_type": "code",
      "execution_count": null,
      "metadata": {
        "id": "zL7Njy7yKQv7"
      },
      "outputs": [],
      "source": [
        "import requests\n",
        "import json\n",
        "import time"
      ]
    },
    {
      "cell_type": "code",
      "execution_count": null,
      "metadata": {
        "id": "CX41LLveKjh3"
      },
      "outputs": [],
      "source": [
        "general_list = []\n",
        "homer_list = []\n",
        "lisa_list = []"
      ]
    },
    {
      "cell_type": "code",
      "execution_count": null,
      "metadata": {
        "id": "vZoCLns_Kxn4"
      },
      "outputs": [],
      "source": [
        "while True:\n",
        "    URL = 'https://thesimpsonsquoteapi.glitch.me/quotes'\n",
        "    respuesta = requests.get(url = URL)\n",
        "    datos = respuesta.json()\n",
        "    \n",
        "    frase: str = datos[0][\"quote\"]\n",
        "    personaje: str = datos[0][\"character\"]\n",
        "    \n",
        "    if personaje == \"Lisa Simpson\":\n",
        "        general_list.append((personaje, frase))\n",
        "        lisa_list.append((personaje,frase))\n",
        "        \n",
        "    elif personaje == \"Homer Simpson\":\n",
        "        general_list.append((personaje,frase))\n",
        "        homer_list.append((personaje,frase))\n",
        "        \n",
        "    else:\n",
        "        general_list.append((personaje,frase))\n",
        "\n",
        "\n",
        "    print(general_list)\n",
        "    time.sleep (0)"
      ]
    }
  ],
  "metadata": {
    "colab": {
      "provenance": []
    },
    "kernelspec": {
      "display_name": "Python 3.10.2 64-bit",
      "language": "python",
      "name": "python3"
    },
    "language_info": {
      "name": "python",
      "version": "3.10.2"
    },
    "vscode": {
      "interpreter": {
        "hash": "aee8b7b246df8f9039afb4144a1f6fd8d2ca17a180786b69acc140d282b71a49"
      }
    }
  },
  "nbformat": 4,
  "nbformat_minor": 0
}
